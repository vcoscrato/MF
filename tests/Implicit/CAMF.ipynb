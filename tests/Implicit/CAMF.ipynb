{
 "cells": [
  {
   "cell_type": "code",
   "execution_count": 1,
   "metadata": {},
   "outputs": [
    {
     "name": "stdout",
     "output_type": "stream",
     "text": [
      "MovieLens data prepared: 14766 users, 32480 items.\n",
      "571980 train, 57112 validation and 7956 test interactions.\n"
     ]
    }
   ],
   "source": [
    "import os\n",
    "import sys\n",
    "sys.path.append('..')\n",
    "\n",
    "import torch\n",
    "import pickle\n",
    "import optuna\n",
    "import numpy as np\n",
    "import pandas as pd\n",
    "\n",
    "from uncertain.implicit import logMF, CAMF\n",
    "from uncertain.BPR import bprMF, biasMF, TwoWayMF, bprGMF, bprMLP\n",
    "from uncertain.BPR import ABPR, GPR\n",
    "\n",
    "from uncertain.utils.data import Data\n",
    "from uncertain.utils.training import train\n",
    "from uncertain.utils.evaluation_implicit import test\n",
    "\n",
    "from matplotlib import pyplot as plt\n",
    "\n",
    "os.chdir('Behance')\n",
    "\n",
    "if os.path.isfile('data.pkl'):\n",
    "    with open('data.pkl', 'rb') as f:\n",
    "        data = pickle.load(f)\n",
    "    print(f'MovieLens data prepared: {data.n_user} users, {data.n_item} items.')\n",
    "    print(f'{len(data.train)} train, {len(data.val)} validation and {len(data.test)} test interactions.')\n",
    "    data.batch_size = int(1e3)\n",
    "else:\n",
    "    data = pd.read_table('Behance_appreciate_1M', sep=' ', header=None)\n",
    "    data.columns = ['user', 'item', 'timestamps']\n",
    "    data = Data(data, implicit=True, users_on_test=1000, distances=False)\n",
    "    with open('data.pkl', 'wb') as f:\n",
    "        pickle.dump(data, f, protocol=4)"
   ]
  },
  {
   "cell_type": "code",
   "execution_count": 4,
   "metadata": {},
   "outputs": [
    {
     "data": {
      "text/plain": [
       "[<matplotlib.lines.Line2D at 0x7fb27a34bd60>]"
      ]
     },
     "execution_count": 4,
     "metadata": {},
     "output_type": "execute_result"
    },
    {
     "data": {
      "image/png": "[encoded data removed]",
      "text/plain": [
       "<Figure size 432x288 with 1 Axes>"
      ]
     },
     "metadata": {
      "needs_background": "light"
     },
     "output_type": "display_data"
    }
   ],
   "source": [
    "x = np.linspace(start=0, stop=1, num=1000)\n",
    "plt.plot(x, beta.pdf(x, a=10, b=10))"
   ]
  },
  {
   "cell_type": "code",
   "execution_count": 2,
   "metadata": {},
   "outputs": [
    {
     "name": "stderr",
     "output_type": "stream",
     "text": [
      "GPU available: True, used: True\n",
      "TPU available: False, using: 0 TPU cores\n",
      "LOCAL_RANK: 0 - CUDA_VISIBLE_DEVICES: [0]\n",
      "\n",
      "  | Name            | Type      | Params\n",
      "----------------------------------------------\n",
      "0 | user_embeddings | Embedding | 58.0 K\n",
      "1 | item_embeddings | Embedding | 35.3 K\n",
      "2 | linear          | Linear    | 10    \n",
      "----------------------------------------------\n",
      "93.3 K    Trainable params\n",
      "0         Non-trainable params\n",
      "93.3 K    Total params\n",
      "0.373     Total estimated model params size (MB)\n"
     ]
    },
    {
     "data": {
      "application/vnd.jupyter.widget-view+json": {
       "model_id": "",
       "version_major": 2,
       "version_minor": 0
      },
      "text/plain": [
       "Validation sanity check: 0it [00:00, ?it/s]"
      ]
     },
     "metadata": {},
     "output_type": "display_data"
    },
    {
     "data": {
      "application/vnd.jupyter.widget-view+json": {
       "model_id": "7a8014a42e854d56b850aba1070f2547",
       "version_major": 2,
       "version_minor": 0
      },
      "text/plain": [
       "Training: 0it [00:00, ?it/s]"
      ]
     },
     "metadata": {},
     "output_type": "display_data"
    },
    {
     "data": {
      "text/plain": [
       "{'Precision': array([0.02343212, 0.02162302, 0.01952676, 0.01839249, 0.01864232,\n",
       "        0.01843556, 0.01789406, 0.01776792, 0.01776553, 0.0173501 ]),\n",
       " 'Recall': array([0.00585803, 0.01081151, 0.01464507, 0.01839249, 0.02330289,\n",
       "        0.02765334, 0.03131461, 0.03553584, 0.03997243, 0.04337526]),\n",
       " 'NDCG': array([0.02343212, 0.05504138, 0.08131469, 0.10749953, 0.13673404,\n",
       "        0.1609969 , 0.18362483, 0.20597636, 0.22651625, 0.24608054]),\n",
       " 'Diversity': array([0.21790282, 0.2117014 , 0.21922925, 0.22653228, 0.23087451,\n",
       "        0.23456668, 0.23879377, 0.24276299, 0.24576573]),\n",
       " 'Novelty': array([0.19849842, 0.18592686, 0.18732536, 0.1889286 , 0.19179559,\n",
       "        0.19445689, 0.19600517, 0.19799796, 0.20019124, 0.20192182])}"
      ]
     },
     "execution_count": 2,
     "metadata": {},
     "output_type": "execute_result"
    }
   ],
   "source": [
    "model = GMF(ML.n_user, ML.n_item, embedding_dim=10, lr=1e-3, n_negative=20)\n",
    "with open('fitted/gmf_implicit.pth', 'wb') as f:\n",
    "    this_loss = train(model, ML)\n",
    "    pickle.dump(model, f, pickle.HIGHEST_PROTOCOL)\n",
    "test_recommendations(model, ML, max_k=10)"
   ]
  },
  {
   "cell_type": "code",
   "execution_count": 10,
   "metadata": {},
   "outputs": [
    {
     "name": "stderr",
     "output_type": "stream",
     "text": [
      "GPU available: True, used: True\n",
      "TPU available: False, using: 0 TPU cores\n",
      "LOCAL_RANK: 0 - CUDA_VISIBLE_DEVICES: [0]\n",
      "\n",
      "  | Name            | Type      | Params\n",
      "----------------------------------------------\n",
      "0 | user_embeddings | Embedding | 58.0 K\n",
      "1 | item_embeddings | Embedding | 35.3 K\n",
      "2 | linear0         | Linear    | 200   \n",
      "3 | linear1         | Linear    | 50    \n",
      "4 | linear2         | Linear    | 5     \n",
      "----------------------------------------------\n",
      "93.6 K    Trainable params\n",
      "0         Non-trainable params\n",
      "93.6 K    Total params\n",
      "0.374     Total estimated model params size (MB)\n"
     ]
    },
    {
     "data": {
      "application/vnd.jupyter.widget-view+json": {
       "model_id": "",
       "version_major": 2,
       "version_minor": 0
      },
      "text/plain": [
       "Validation sanity check: 0it [00:00, ?it/s]"
      ]
     },
     "metadata": {},
     "output_type": "display_data"
    },
    {
     "data": {
      "application/vnd.jupyter.widget-view+json": {
       "model_id": "96fe2fae5ff541cc86351c7332618bc6",
       "version_major": 2,
       "version_minor": 0
      },
      "text/plain": [
       "Training: 0it [00:00, ?it/s]"
      ]
     },
     "metadata": {},
     "output_type": "display_data"
    },
    {
     "data": {
      "text/plain": [
       "{'Precision': array([0.02343212, 0.02162302, 0.01952676, 0.01826327, 0.01847002,\n",
       "        0.01829198, 0.01782022, 0.01778946, 0.01772724, 0.01736733]),\n",
       " 'Recall': array([0.00585803, 0.01081151, 0.01464507, 0.01826327, 0.02308753,\n",
       "        0.02743797, 0.03118539, 0.03557891, 0.03988629, 0.04341833]),\n",
       " 'NDCG': array([0.02343212, 0.05504138, 0.08131469, 0.10698264, 0.13642198,\n",
       "        0.16035149, 0.18392239, 0.20624149, 0.22673104, 0.24469634]),\n",
       " 'Diversity': array([0.21781472, 0.21158753, 0.219047  , 0.22632408, 0.23066823,\n",
       "        0.23432892, 0.2385655 , 0.24242479, 0.24535393]),\n",
       " 'Novelty': array([0.19849842, 0.18658139, 0.18777106, 0.18881145, 0.19171581,\n",
       "        0.19411437, 0.19624128, 0.19803375, 0.20002713, 0.20218819])}"
      ]
     },
     "execution_count": 10,
     "metadata": {},
     "output_type": "execute_result"
    }
   ],
   "source": [
    "model = MLP(ML.n_user, ML.n_item, embedding_dim=10, lr=1e-3, n_negative=20)\n",
    "with open('fitted/mlp_implicit.pth', 'wb') as f:\n",
    "    this_loss = train(model, ML)\n",
    "    pickle.dump(model, f, pickle.HIGHEST_PROTOCOL)\n",
    "test_recommendations(model, ML, max_k=10)"
   ]
  },
  {
   "cell_type": "code",
   "execution_count": null,
   "metadata": {},
   "outputs": [
    {
     "name": "stderr",
     "output_type": "stream",
     "text": [
      "GPU available: True, used: True\n",
      "TPU available: False, using: 0 TPU cores\n",
      "IPU available: False, using: 0 IPUs\n",
      "LOCAL_RANK: 0 - CUDA_VISIBLE_DEVICES: [0]\n",
      "\n",
      "  | Name            | Type      | Params\n",
      "----------------------------------------------\n",
      "0 | user_embeddings | Embedding | 147 K \n",
      "1 | item_embeddings | Embedding | 324 K \n",
      "2 | linear          | Linear    | 20    \n",
      "3 | activation      | Softplus  | 0     \n",
      "----------------------------------------------\n",
      "472 K     Trainable params\n",
      "0         Non-trainable params\n",
      "472 K     Total params\n",
      "1.890     Total estimated model params size (MB)\n",
      "/home/vcoscrato/.local/lib/python3.8/site-packages/pytorch_lightning/callbacks/model_checkpoint.py:623: UserWarning: Checkpoint directory /home/vcoscrato/Documents/RecSys/MF/tests/Behance/checkpoints exists and is not empty.\n",
      "  rank_zero_warn(f\"Checkpoint directory {dirpath} exists and is not empty.\")\n"
     ]
    },
    {
     "data": {
      "application/vnd.jupyter.widget-view+json": {
       "model_id": "",
       "version_major": 2,
       "version_minor": 0
      },
      "text/plain": [
       "Validation sanity check: 0it [00:00, ?it/s]"
      ]
     },
     "metadata": {},
     "output_type": "display_data"
    },
    {
     "data": {
      "application/vnd.jupyter.widget-view+json": {
       "model_id": "4915342f7ad5445ba5cd6522f261bb87",
       "version_major": 2,
       "version_minor": 0
      },
      "text/plain": [
       "Training: 0it [00:00, ?it/s]"
      ]
     },
     "metadata": {},
     "output_type": "display_data"
    },
    {
     "name": "stderr",
     "output_type": "stream",
     "text": [
      "Trainer was signaled to stop but required minimum epochs (20) or minimum steps (None) has not been met. Training will continue...\n",
      "Trainer was signaled to stop but required minimum epochs (20) or minimum steps (None) has not been met. Training will continue...\n",
      "Trainer was signaled to stop but required minimum epochs (20) or minimum steps (None) has not been met. Training will continue...\n",
      "Trainer was signaled to stop but required minimum epochs (20) or minimum steps (None) has not been met. Training will continue...\n"
     ]
    }
   ],
   "source": [
    "best_loss = 1000\n",
    "for wd in [1e-6]:\n",
    "    model = CAMF(data.n_user, data.n_item, embedding_dim=10, lr=0.001, weight_decay=wd, n_negative=5)\n",
    "    this_loss = train(model, data, path='checkpoints', name='test')\n",
    "    if this_loss < best_loss:\n",
    "        best_loss = this_loss\n",
    "        with open('fitted/CAMF.pth', 'wb') as f:\n",
    "            pickle.dump(model, f, pickle.HIGHEST_PROTOCOL)"
   ]
  },
  {
   "cell_type": "code",
   "execution_count": 5,
   "metadata": {},
   "outputs": [
    {
     "data": {
      "text/plain": [
       "{'Precision': array([0.02343212, 0.02136458, 0.01992878, 0.018694  , 0.01798759,\n",
       "        0.01780381, 0.01811559, 0.01813405, 0.01770809, 0.01743625]),\n",
       " 'Recall': array([0.00585803, 0.01068229, 0.01494659, 0.018694  , 0.02248449,\n",
       "        0.02670572, 0.03170227, 0.03626809, 0.03984321, 0.04359063]),\n",
       " 'NDCG': array([0.02343212, 0.05479757, 0.08443824, 0.11133145, 0.13665765,\n",
       "        0.16119588, 0.18568255, 0.20891139, 0.22838941, 0.24962102]),\n",
       " 'Diversity': array([0.22269655, 0.22610643, 0.23361432, 0.23973911, 0.24368635,\n",
       "        0.24687816, 0.24966339, 0.25243559, 0.25503443]),\n",
       " 'Novelty': array([0.19721618, 0.18530525, 0.19081333, 0.19435603, 0.19652098,\n",
       "        0.1987931 , 0.20137701, 0.20390979, 0.20550375, 0.20689251]),\n",
       " 'Uncertainty': array([0.09002491, 0.10286289, 0.10596303, 0.10762468, 0.10875646,\n",
       "        0.10982297, 0.11106896, 0.11222216, 0.11311057, 0.11402168,\n",
       "        0.11473786, 0.11540794, 0.11575837, 0.11646367, 0.11693976,\n",
       "        0.11743632, 0.11757031, 0.11785043, 0.11823716, 0.11851179,\n",
       "        0.11865188, 0.11871152, 0.1188788 , 0.11881361, 0.11873435,\n",
       "        0.11874293, 0.11856915, 0.11859889, 0.1187742 , 0.11848356,\n",
       "        0.11856279, 0.11847233, 0.1184015 , 0.11827001, 0.11794419,\n",
       "        0.11804099, 0.11772244, 0.11789984, 0.11768798, 0.11723189,\n",
       "        0.11719974, 0.1170772 , 0.11672479, 0.11677614, 0.11651471,\n",
       "        0.11635538, 0.11607812, 0.11594401, 0.1157541 , 0.11547637]),\n",
       " 'RRI': array([-0.0592299 , -0.07649994, -0.07848861, -0.0809604 , -0.08149213,\n",
       "        -0.08878662, -0.09629297, -0.10093289, -0.10028819, -0.10118033])}"
      ]
     },
     "execution_count": 5,
     "metadata": {},
     "output_type": "execute_result"
    }
   ],
   "source": [
    "test_recommendations(model, ML, max_k=10)"
   ]
  },
  {
   "cell_type": "code",
   "execution_count": 6,
   "metadata": {},
   "outputs": [
    {
     "data": {
      "image/png": "[encoded data removed]",
      "text/plain": [
       "<Figure size 432x288 with 2 Axes>"
      ]
     },
     "metadata": {
      "needs_background": "light"
     },
     "output_type": "display_data"
    }
   ],
   "source": [
    "users = torch.randint(0, model.n_user, (10000,))\n",
    "items = torch.randint(0, model.n_item, (10000,))\n",
    "with torch.no_grad():\n",
    "    params = model.forward(users, items)\n",
    "f, ax = plt.subplots(ncols=2)\n",
    "ax[0].hist(params[:, 0].numpy(), density=True)\n",
    "ax[1].hist(params[:, 1].numpy(), density=True)\n",
    "ax[0].set_xlabel(r'$\\alpha$', fontsize=20)\n",
    "ax[0].set_ylabel('Density', fontsize=20)\n",
    "ax[1].set_xlabel(r'$\\beta$', fontsize=20)\n",
    "ax[1].set_ylabel('Density', fontsize=20)\n",
    "f.tight_layout()"
   ]
  },
  {
   "cell_type": "code",
   "execution_count": 7,
   "metadata": {},
   "outputs": [
    {
     "data": {
      "text/plain": [
       "Parameter containing:\n",
       "tensor([[ 2.3060,  2.7541,  2.3166,  2.8394,  2.3763,  2.3870,  2.5084, -0.3101,\n",
       "          2.3726,  2.7666],\n",
       "        [-0.0456, -0.6832, -0.1406, -0.8429, -0.1559, -0.2029, -0.3971,  2.2352,\n",
       "         -0.1421, -0.6837]], requires_grad=True)"
      ]
     },
     "execution_count": 7,
     "metadata": {},
     "output_type": "execute_result"
    }
   ],
   "source": [
    "model.linear.weight"
   ]
  },
  {
   "cell_type": "code",
   "execution_count": 10,
   "metadata": {},
   "outputs": [
    {
     "data": {
      "text/html": [
       "<div>\n",
       "<style scoped>\n",
       "    .dataframe tbody tr th:only-of-type {\n",
       "        vertical-align: middle;\n",
       "    }\n",
       "\n",
       "    .dataframe tbody tr th {\n",
       "        vertical-align: top;\n",
       "    }\n",
       "\n",
       "    .dataframe thead th {\n",
       "        text-align: right;\n",
       "    }\n",
       "</style>\n",
       "<table border=\"1\" class=\"dataframe\">\n",
       "  <thead>\n",
       "    <tr style=\"text-align: right;\">\n",
       "      <th></th>\n",
       "      <th>scores</th>\n",
       "      <th>uncertainties</th>\n",
       "    </tr>\n",
       "  </thead>\n",
       "  <tbody>\n",
       "    <tr>\n",
       "      <th>18</th>\n",
       "      <td>0.655697</td>\n",
       "      <td>0.120636</td>\n",
       "    </tr>\n",
       "    <tr>\n",
       "      <th>87</th>\n",
       "      <td>0.458901</td>\n",
       "      <td>0.155661</td>\n",
       "    </tr>\n",
       "    <tr>\n",
       "      <th>91</th>\n",
       "      <td>0.442144</td>\n",
       "      <td>0.152568</td>\n",
       "    </tr>\n",
       "    <tr>\n",
       "      <th>155</th>\n",
       "      <td>0.418528</td>\n",
       "      <td>0.148210</td>\n",
       "    </tr>\n",
       "    <tr>\n",
       "      <th>330</th>\n",
       "      <td>0.405414</td>\n",
       "      <td>0.151102</td>\n",
       "    </tr>\n",
       "    <tr>\n",
       "      <th>20</th>\n",
       "      <td>0.388035</td>\n",
       "      <td>0.150505</td>\n",
       "    </tr>\n",
       "    <tr>\n",
       "      <th>137</th>\n",
       "      <td>0.381735</td>\n",
       "      <td>0.140457</td>\n",
       "    </tr>\n",
       "    <tr>\n",
       "      <th>2</th>\n",
       "      <td>0.375897</td>\n",
       "      <td>0.154454</td>\n",
       "    </tr>\n",
       "    <tr>\n",
       "      <th>23</th>\n",
       "      <td>0.374568</td>\n",
       "      <td>0.152024</td>\n",
       "    </tr>\n",
       "    <tr>\n",
       "      <th>223</th>\n",
       "      <td>0.369051</td>\n",
       "      <td>0.152685</td>\n",
       "    </tr>\n",
       "  </tbody>\n",
       "</table>\n",
       "</div>"
      ],
      "text/plain": [
       "       scores  uncertainties\n",
       "18   0.655697       0.120636\n",
       "87   0.458901       0.155661\n",
       "91   0.442144       0.152568\n",
       "155  0.418528       0.148210\n",
       "330  0.405414       0.151102\n",
       "20   0.388035       0.150505\n",
       "137  0.381735       0.140457\n",
       "2    0.375897       0.154454\n",
       "23   0.374568       0.152024\n",
       "223  0.369051       0.152685"
      ]
     },
     "execution_count": 10,
     "metadata": {},
     "output_type": "execute_result"
    }
   ],
   "source": [
    "model.recommend(2)"
   ]
  },
  {
   "cell_type": "code",
   "execution_count": null,
   "metadata": {},
   "outputs": [],
   "source": []
  }
 ],
 "metadata": {
  "kernelspec": {
   "display_name": "Python 3",
   "language": "python",
   "name": "python3"
  },
  "language_info": {
   "codemirror_mode": {
    "name": "ipython",
    "version": 3
   },
   "file_extension": ".py",
   "mimetype": "text/x-python",
   "name": "python",
   "nbconvert_exporter": "python",
   "pygments_lexer": "ipython3",
   "version": "3.8.10"
  }
 },
 "nbformat": 4,
 "nbformat_minor": 4
}
